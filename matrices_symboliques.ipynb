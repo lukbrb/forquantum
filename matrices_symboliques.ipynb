{
 "cells": [
  {
   "cell_type": "markdown",
   "id": "cee75424-e16a-4bbc-9dc3-88a70d72516f",
   "metadata": {},
   "source": [
    "# Définitions symboliques des matrices\n",
    "\n",
    "On définit ici les matrices symboliques, selon la représentation \n",
    "\n",
    "$$ \\gamma^i = \n",
    "\\begin{pmatrix}\n",
    "    0 & \\sigma^i\\\\\n",
    "    -\\sigma^i & 0\n",
    "\\end{pmatrix} \\text{ } \\text{et }  \\text{ }\n",
    "\\gamma^0 = \\begin{pmatrix}\n",
    "    1 & 0\\\\\n",
    "    0 & -1\n",
    "\\end{pmatrix}$$ "
   ]
  },
  {
   "cell_type": "code",
   "execution_count": 52,
   "id": "382580b6-34aa-4611-be12-f23befd95342",
   "metadata": {},
   "outputs": [],
   "source": [
    "import sympy as sp\n",
    "from sympy.physics.matrices import msigma, mgamma\n",
    "from sympy.physics.quantum.dagger import Dagger"
   ]
  },
  {
   "cell_type": "markdown",
   "id": "e589d021-894f-4430-9b1b-6f4248430663",
   "metadata": {},
   "source": [
    "$\\gamma^2$ :"
   ]
  },
  {
   "cell_type": "code",
   "execution_count": 50,
   "id": "f9aaefbd-6275-4e57-8a5f-e8a6df2ff1c5",
   "metadata": {},
   "outputs": [
    {
     "data": {
      "text/latex": [
       "$\\displaystyle \\left[\\begin{matrix}0 & 0 & 0 & - i\\\\0 & 0 & i & 0\\\\0 & i & 0 & 0\\\\- i & 0 & 0 & 0\\end{matrix}\\right]$"
      ],
      "text/plain": [
       "Matrix([\n",
       "[ 0, 0, 0, -I],\n",
       "[ 0, 0, I,  0],\n",
       "[ 0, I, 0,  0],\n",
       "[-I, 0, 0,  0]])"
      ]
     },
     "execution_count": 50,
     "metadata": {},
     "output_type": "execute_result"
    }
   ],
   "source": [
    "mgamma(2)"
   ]
  },
  {
   "cell_type": "markdown",
   "id": "6b1a6a28-f84a-4f14-85cc-97688cf41336",
   "metadata": {},
   "source": [
    "$\\gamma_2$ :"
   ]
  },
  {
   "cell_type": "code",
   "execution_count": 56,
   "id": "44e7eabe-6cd6-46d5-be46-816c7c66af77",
   "metadata": {},
   "outputs": [
    {
     "data": {
      "text/latex": [
       "$\\displaystyle \\left[\\begin{matrix}0 & 0 & 0 & i\\\\0 & 0 & - i & 0\\\\0 & - i & 0 & 0\\\\i & 0 & 0 & 0\\end{matrix}\\right]$"
      ],
      "text/plain": [
       "Matrix([\n",
       "[0,  0,  0, I],\n",
       "[0,  0, -I, 0],\n",
       "[0, -I,  0, 0],\n",
       "[I,  0,  0, 0]])"
      ]
     },
     "execution_count": 56,
     "metadata": {},
     "output_type": "execute_result"
    }
   ],
   "source": [
    "mgamma(2, lower=True)"
   ]
  },
  {
   "cell_type": "markdown",
   "id": "9332f6fd-ae81-4e1b-b439-6a8ff1bb1d68",
   "metadata": {},
   "source": [
    "et l'on note que ceci correspond à $\\left(\\gamma^2 \\right)^\\dagger$, ou vice-versa $\\left(\\gamma_2 \\right)^\\dagger = \\gamma^2$"
   ]
  },
  {
   "cell_type": "code",
   "execution_count": 57,
   "id": "4e3a0b8f-1be2-4246-be0f-5cb552508f27",
   "metadata": {},
   "outputs": [
    {
     "data": {
      "text/latex": [
       "$\\displaystyle \\left[\\begin{matrix}0 & 0 & 0 & i\\\\0 & 0 & - i & 0\\\\0 & - i & 0 & 0\\\\i & 0 & 0 & 0\\end{matrix}\\right]$"
      ],
      "text/plain": [
       "Matrix([\n",
       "[0,  0,  0, I],\n",
       "[0,  0, -I, 0],\n",
       "[0, -I,  0, 0],\n",
       "[I,  0,  0, 0]])"
      ]
     },
     "execution_count": 57,
     "metadata": {},
     "output_type": "execute_result"
    }
   ],
   "source": [
    "Dagger(mgamma(2))"
   ]
  },
  {
   "cell_type": "code",
   "execution_count": 60,
   "id": "793129a8-02b3-461c-b634-5a23db3f42c7",
   "metadata": {},
   "outputs": [
    {
     "data": {
      "text/latex": [
       "$\\displaystyle \\left[\\begin{matrix}0 & 0 & 0 & - i\\\\0 & 0 & i & 0\\\\0 & i & 0 & 0\\\\- i & 0 & 0 & 0\\end{matrix}\\right]$"
      ],
      "text/plain": [
       "Matrix([\n",
       "[ 0, 0, 0, -I],\n",
       "[ 0, 0, I,  0],\n",
       "[ 0, I, 0,  0],\n",
       "[-I, 0, 0,  0]])"
      ]
     },
     "execution_count": 60,
     "metadata": {},
     "output_type": "execute_result"
    }
   ],
   "source": [
    "Dagger(mgamma(2, lower=True))"
   ]
  },
  {
   "cell_type": "code",
   "execution_count": null,
   "id": "1c8abaf1-e80b-4b1c-994e-7409056d3457",
   "metadata": {},
   "outputs": [],
   "source": []
  }
 ],
 "metadata": {
  "kernelspec": {
   "display_name": "Python 3 (ipykernel)",
   "language": "python",
   "name": "python3"
  },
  "language_info": {
   "codemirror_mode": {
    "name": "ipython",
    "version": 3
   },
   "file_extension": ".py",
   "mimetype": "text/x-python",
   "name": "python",
   "nbconvert_exporter": "python",
   "pygments_lexer": "ipython3",
   "version": "3.10.8"
  }
 },
 "nbformat": 4,
 "nbformat_minor": 5
}
