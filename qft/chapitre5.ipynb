{
 "cells": [
  {
   "cell_type": "markdown",
   "id": "8e90c95b-3f95-4486-a7ad-99fe21518ba8",
   "metadata": {},
   "source": [
    "# Chapitre 5"
   ]
  },
  {
   "cell_type": "code",
   "execution_count": null,
   "id": "71de047a-42f6-4f93-8e98-7ecaa5d6cbfd",
   "metadata": {},
   "outputs": [],
   "source": [
    "import sympy as sp\n",
    "from sympy.physics.matrices import mgamma\n",
    "from sympy.functions.elementary.complexes import conjugate"
   ]
  },
  {
   "cell_type": "code",
   "execution_count": null,
   "id": "7a26f5f6-0614-4ff1-affc-aeb4b708b84f",
   "metadata": {},
   "outputs": [],
   "source": [
    "a, b, c, d, e, f, g, h, i, j, k, l, m, n, o, p = sp.symbols('a b c d e f g h i j k l m n o p')\n",
    "C = sp.Matrix([[a, b, c, d], [e, f, g, h], [i, j, k, l], [m, n, o, p]])\n",
    "# C = sp.Matrix([[a, b], [c, d]])\n",
    "A = sp.MatrixSymbol('A', 4, 4)\n",
    "g0 = sp.Matrix([[1, 0], [0, -1]])"
   ]
  },
  {
   "cell_type": "code",
   "execution_count": null,
   "id": "ddc6c4bf-823e-4614-a6bf-fd99eefe83ef",
   "metadata": {},
   "outputs": [],
   "source": [
    "Ci = sp.Inverse(C)"
   ]
  },
  {
   "cell_type": "code",
   "execution_count": null,
   "id": "3bb48df3-50e8-4874-81af-3d25598a4495",
   "metadata": {},
   "outputs": [],
   "source": [
    "C @ mgamma(0) @ conjugate(mgamma(2)) @ Ci # @ mgamma(0).inv() "
   ]
  },
  {
   "cell_type": "code",
   "execution_count": null,
   "id": "84cc917b-4a6e-43e6-a5e1-3348eb0e0fcc",
   "metadata": {},
   "outputs": [],
   "source": [
    "- mgamma(2) @ mgamma(0) @ A @ mgamma(0) @ sp.Inverse(A)"
   ]
  },
  {
   "cell_type": "code",
   "execution_count": null,
   "id": "704bb9eb-80a3-4900-bdda-c8de41b04932",
   "metadata": {},
   "outputs": [],
   "source": [
    "C"
   ]
  },
  {
   "cell_type": "code",
   "execution_count": null,
   "id": "2595f335-3211-4d13-a8d7-4c5e440d1567",
   "metadata": {},
   "outputs": [],
   "source": []
  }
 ],
 "metadata": {
  "kernelspec": {
   "display_name": "Python 3 (ipykernel)",
   "language": "python",
   "name": "python3"
  },
  "language_info": {
   "codemirror_mode": {
    "name": "ipython",
    "version": 3
   },
   "file_extension": ".py",
   "mimetype": "text/x-python",
   "name": "python",
   "nbconvert_exporter": "python",
   "pygments_lexer": "ipython3",
   "version": "3.10.12"
  }
 },
 "nbformat": 4,
 "nbformat_minor": 5
}
