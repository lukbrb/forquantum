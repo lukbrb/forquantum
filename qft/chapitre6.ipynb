{
 "cells": [
  {
   "cell_type": "markdown",
   "id": "f856d1c0-d889-416d-b54b-a2a6a49326f0",
   "metadata": {},
   "source": [
    "# Chapitre 6"
   ]
  },
  {
   "cell_type": "code",
   "execution_count": 1,
   "id": "85338b30-1e94-4838-91bb-e596cfc638d0",
   "metadata": {},
   "outputs": [],
   "source": [
    "import sympy as sp\n",
    "from sympy.abc import t, x"
   ]
  },
  {
   "cell_type": "code",
<<<<<<< Updated upstream
   "execution_count": 2,
=======
   "execution_count": 13,
>>>>>>> Stashed changes
   "id": "b3e05368-b186-4801-8adc-cdb6df37fc5e",
   "metadata": {},
   "outputs": [],
   "source": [
<<<<<<< Updated upstream
    "phi = sp.Function(\"phi\")(t, x) # f is a function of x\n",
    "phi_ = sp.Derivative(phi, t)\n",
    "V = sp.Function('V')(t, x)\n",
    "H_0 = sp.symbols('H_0')"
   ]
  },
  {
   "cell_type": "code",
   "execution_count": 3,
   "id": "e4271829-0977-49f0-90a5-97ae5b58c3a8",
   "metadata": {},
   "outputs": [],
   "source": [
    "eq = sp.I * phi_ - H_0 * phi - V * phi"
   ]
  },
  {
   "cell_type": "code",
   "execution_count": 4,
   "id": "08801c8c-21a9-45e1-bc09-43f5e1518071",
   "metadata": {},
   "outputs": [
    {
     "data": {
      "text/latex": [
       "$\\displaystyle - H_{0} \\phi{\\left(t,x \\right)} - V{\\left(t,x \\right)} \\phi{\\left(t,x \\right)} + i \\frac{\\partial}{\\partial t} \\phi{\\left(t,x \\right)}$"
      ],
      "text/plain": [
       "-H_0*phi(t, x) - V(t, x)*phi(t, x) + I*Derivative(phi(t, x), t)"
      ]
     },
     "execution_count": 4,
     "metadata": {},
     "output_type": "execute_result"
    }
   ],
   "source": [
    "eq"
=======
    "t1 = sp.symbols('t_1')\n",
    "phi = sp.Function(\"phi\")(x, t1)\n",
    "phi_ = sp.Derivative(phi, t1)\n",
    "V = sp.Function('V')(x, t1)\n",
    "H_0 = sp.symbols('H_0')\n",
    "dt1 = sp.symbols('Delta')"
>>>>>>> Stashed changes
   ]
  },
  {
   "cell_type": "code",
<<<<<<< Updated upstream
   "execution_count": 11,
   "id": "07558141-ee29-45c7-8d80-a56201fd9023",
   "metadata": {},
   "outputs": [
    {
     "ename": "AttributeError",
     "evalue": "'Equality' object has no attribute 'series'",
     "output_type": "error",
     "traceback": [
      "\u001b[0;31m---------------------------------------------------------------------------\u001b[0m",
      "\u001b[0;31mAttributeError\u001b[0m                            Traceback (most recent call last)",
      "Cell \u001b[0;32mIn[11], line 1\u001b[0m\n\u001b[0;32m----> 1\u001b[0m \u001b[43msp\u001b[49m\u001b[38;5;241;43m.\u001b[39;49m\u001b[43mpdsolve\u001b[49m\u001b[43m(\u001b[49m\u001b[43meq\u001b[49m\u001b[43m)\u001b[49m\u001b[38;5;241;43m.\u001b[39;49m\u001b[43mseries\u001b[49m(t, \u001b[38;5;241m3\u001b[39m)\n",
      "\u001b[0;31mAttributeError\u001b[0m: 'Equality' object has no attribute 'series'"
     ]
    }
   ],
=======
   "execution_count": 14,
   "id": "a4a72843-fd93-4e01-83f8-fd8514c01713",
   "metadata": {},
   "outputs": [],
>>>>>>> Stashed changes
   "source": [
    "t2 = t1 + dt1"
   ]
  },
  {
   "cell_type": "code",
<<<<<<< Updated upstream
   "execution_count": 13,
=======
   "execution_count": 15,
   "id": "08801c8c-21a9-45e1-bc09-43f5e1518071",
   "metadata": {},
   "outputs": [],
   "source": [
    "eq0 = sp.I * phi_ - H_0 * phi"
   ]
  },
  {
   "cell_type": "code",
   "execution_count": 16,
   "id": "e4271829-0977-49f0-90a5-97ae5b58c3a8",
   "metadata": {},
   "outputs": [],
   "source": [
    "eq = sp.I * sp.Derivative(phi, t1) - H_0 * phi - V * phi"
   ]
  },
  {
   "cell_type": "code",
   "execution_count": 17,
   "id": "0a065341-b594-4911-b94c-65c9aed1c8d0",
   "metadata": {},
   "outputs": [],
   "source": [
    "res0 = sp.pdsolve(eq0)"
   ]
  },
  {
   "cell_type": "code",
   "execution_count": 18,
   "id": "7c467bd3-11a0-4035-8cbc-f0176e16e141",
   "metadata": {},
   "outputs": [],
   "source": [
    "res1 = sp.pdsolve(eq)"
   ]
  },
  {
   "cell_type": "code",
   "execution_count": 30,
   "id": "86c043f4-1c40-4b66-8b62-1837e6b8bfc8",
   "metadata": {},
   "outputs": [],
   "source": [
    "I0 = sp.integrate(eq0, (t, t1, t2))"
   ]
  },
  {
   "cell_type": "code",
   "execution_count": 31,
>>>>>>> Stashed changes
   "id": "e162c466-fa0a-43da-bb7b-83e3e038bfd7",
   "metadata": {},
   "outputs": [],
   "source": [
    "I1 = sp.integrate(eq, (t, t1, t2)).simplify()"
   ]
  },
  {
   "cell_type": "code",
   "execution_count": 32,
   "id": "e26656bb-b4b0-4ad0-94cf-21aa46143771",
   "metadata": {},
   "outputs": [
    {
     "data": {
      "text/latex": [
<<<<<<< Updated upstream
       "$\\displaystyle - H_{0} \\int\\limits^{t} \\phi{\\left(_0,x \\right)}\\, d_0 + i \\phi{\\left(t,x \\right)} - \\int\\limits^{t} V{\\left(_0,x \\right)} \\phi{\\left(_0,x \\right)}\\, d_0$"
      ],
      "text/plain": [
       "-H_0*Integral(phi(_0, x), (_0, t)) + I*phi(t, x) - Integral(V(_0, x)*phi(_0, x), (_0, t))"
      ]
     },
     "execution_count": 13,
     "metadata": {},
     "output_type": "execute_result"
    }
   ],
   "source": [
    "sp.integrate(eq, t).series(t, 1)"
   ]
  },
  {
   "cell_type": "code",
   "execution_count": 10,
   "id": "e26656bb-b4b0-4ad0-94cf-21aa46143771",
   "metadata": {},
   "outputs": [
    {
     "data": {
      "text/latex": [
       "$\\displaystyle i \\left(\\int i H_{0} \\phi{\\left(t,x \\right)}\\, dt + \\int i V{\\left(t,x \\right)} \\phi{\\left(t,x \\right)}\\, dt + \\int \\frac{\\partial}{\\partial t} \\phi{\\left(t,x \\right)}\\, dt\\right)$"
=======
       "$\\displaystyle \\Delta \\left(- H_{0} \\phi{\\left(x,t_{1} \\right)} + i \\frac{\\partial}{\\partial t_{1}} \\phi{\\left(x,t_{1} \\right)}\\right)$"
>>>>>>> Stashed changes
      ],
      "text/plain": [
       "Delta*(-H_0*phi(x, t_1) + I*Derivative(phi(x, t_1), t_1))"
      ]
     },
<<<<<<< Updated upstream
     "execution_count": 10,
=======
     "execution_count": 32,
>>>>>>> Stashed changes
     "metadata": {},
     "output_type": "execute_result"
    }
   ],
   "source": [
<<<<<<< Updated upstream
    "t1 = sp.symbols('t_1')\n",
    "sp.integrate(eq, t)"
=======
    "I0.simplify()"
   ]
  },
  {
   "cell_type": "code",
   "execution_count": 33,
   "id": "e8997b47-39b6-445d-80d2-ad1af6b0f546",
   "metadata": {},
   "outputs": [
    {
     "data": {
      "text/latex": [
       "$\\displaystyle \\Delta \\left(- H_{0} \\phi{\\left(x,t_{1} \\right)} - V{\\left(x,t_{1} \\right)} \\phi{\\left(x,t_{1} \\right)} + i \\frac{\\partial}{\\partial t_{1}} \\phi{\\left(x,t_{1} \\right)}\\right)$"
      ],
      "text/plain": [
       "Delta*(-H_0*phi(x, t_1) - V(x, t_1)*phi(x, t_1) + I*Derivative(phi(x, t_1), t_1))"
      ]
     },
     "execution_count": 33,
     "metadata": {},
     "output_type": "execute_result"
    }
   ],
   "source": [
    "I1"
   ]
  },
  {
   "cell_type": "code",
   "execution_count": 35,
   "id": "e4834a7d-750a-4d6e-9316-5d1a10d4daad",
   "metadata": {},
   "outputs": [
    {
     "data": {
      "text/latex": [
       "$\\displaystyle \\Delta V{\\left(x,t_{1} \\right)} \\phi{\\left(x,t_{1} \\right)}$"
      ],
      "text/plain": [
       "Delta*V(x, t_1)*phi(x, t_1)"
      ]
     },
     "execution_count": 35,
     "metadata": {},
     "output_type": "execute_result"
    }
   ],
   "source": [
    "(I0 - I1).simplify()"
>>>>>>> Stashed changes
   ]
  },
  {
   "cell_type": "code",
   "execution_count": null,
<<<<<<< Updated upstream
   "id": "9683d09f-67da-4e08-9156-b0cd73f05e62",
=======
   "id": "73a41647-f727-4684-8084-fe1325ab2a33",
   "metadata": {},
   "outputs": [],
   "source": [
    "res1"
   ]
  },
  {
   "cell_type": "code",
   "execution_count": null,
   "id": "ddb26c7a-f616-41fa-b1c7-1b91bd3874bd",
>>>>>>> Stashed changes
   "metadata": {},
   "outputs": [],
   "source": []
  }
 ],
 "metadata": {
  "kernelspec": {
   "display_name": "Python 3 (ipykernel)",
   "language": "python",
   "name": "python3"
  },
  "language_info": {
   "codemirror_mode": {
    "name": "ipython",
    "version": 3
   },
   "file_extension": ".py",
   "mimetype": "text/x-python",
   "name": "python",
   "nbconvert_exporter": "python",
   "pygments_lexer": "ipython3",
<<<<<<< Updated upstream
   "version": "3.10.8"
=======
   "version": "3.11.2"
>>>>>>> Stashed changes
  }
 },
 "nbformat": 4,
 "nbformat_minor": 5
}
