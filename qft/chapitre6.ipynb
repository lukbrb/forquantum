{
 "cells": [
  {
   "cell_type": "markdown",
   "id": "f856d1c0-d889-416d-b54b-a2a6a49326f0",
   "metadata": {},
   "source": [
    "# Chapitre 6"
   ]
  },
  {
   "cell_type": "code",
   "execution_count": 1,
   "id": "85338b30-1e94-4838-91bb-e596cfc638d0",
   "metadata": {},
   "outputs": [],
   "source": [
    "import sympy as sp\n",
    "from sympy.abc import t, x"
   ]
  },
  {
   "cell_type": "code",
   "execution_count": 2,
   "id": "b3e05368-b186-4801-8adc-cdb6df37fc5e",
   "metadata": {},
   "outputs": [],
   "source": [
    "phi = sp.Function(\"phi\")(t, x) # f is a function of x\n",
    "phi_ = sp.Derivative(phi, t)\n",
    "V = sp.Function('V')(t, x)\n",
    "H_0 = sp.symbols('H_0')"
   ]
  },
  {
   "cell_type": "code",
   "execution_count": 3,
   "id": "e4271829-0977-49f0-90a5-97ae5b58c3a8",
   "metadata": {},
   "outputs": [],
   "source": [
    "eq = sp.I * phi_ - H_0 * phi - V * phi"
   ]
  },
  {
   "cell_type": "code",
   "execution_count": 4,
   "id": "08801c8c-21a9-45e1-bc09-43f5e1518071",
   "metadata": {},
   "outputs": [
    {
     "data": {
      "text/latex": [
       "$\\displaystyle - H_{0} \\phi{\\left(t,x \\right)} - V{\\left(t,x \\right)} \\phi{\\left(t,x \\right)} + i \\frac{\\partial}{\\partial t} \\phi{\\left(t,x \\right)}$"
      ],
      "text/plain": [
       "-H_0*phi(t, x) - V(t, x)*phi(t, x) + I*Derivative(phi(t, x), t)"
      ]
     },
     "execution_count": 4,
     "metadata": {},
     "output_type": "execute_result"
    }
   ],
   "source": [
    "eq"
   ]
  },
  {
   "cell_type": "code",
   "execution_count": 11,
   "id": "07558141-ee29-45c7-8d80-a56201fd9023",
   "metadata": {},
   "outputs": [
    {
     "ename": "AttributeError",
     "evalue": "'Equality' object has no attribute 'series'",
     "output_type": "error",
     "traceback": [
      "\u001b[0;31m---------------------------------------------------------------------------\u001b[0m",
      "\u001b[0;31mAttributeError\u001b[0m                            Traceback (most recent call last)",
      "Cell \u001b[0;32mIn[11], line 1\u001b[0m\n\u001b[0;32m----> 1\u001b[0m \u001b[43msp\u001b[49m\u001b[38;5;241;43m.\u001b[39;49m\u001b[43mpdsolve\u001b[49m\u001b[43m(\u001b[49m\u001b[43meq\u001b[49m\u001b[43m)\u001b[49m\u001b[38;5;241;43m.\u001b[39;49m\u001b[43mseries\u001b[49m(t, \u001b[38;5;241m3\u001b[39m)\n",
      "\u001b[0;31mAttributeError\u001b[0m: 'Equality' object has no attribute 'series'"
     ]
    }
   ],
   "source": [
    "sp.pdsolve(eq)"
   ]
  },
  {
   "cell_type": "code",
   "execution_count": 13,
   "id": "e162c466-fa0a-43da-bb7b-83e3e038bfd7",
   "metadata": {},
   "outputs": [
    {
     "data": {
      "text/latex": [
       "$\\displaystyle - H_{0} \\int\\limits^{t} \\phi{\\left(_0,x \\right)}\\, d_0 + i \\phi{\\left(t,x \\right)} - \\int\\limits^{t} V{\\left(_0,x \\right)} \\phi{\\left(_0,x \\right)}\\, d_0$"
      ],
      "text/plain": [
       "-H_0*Integral(phi(_0, x), (_0, t)) + I*phi(t, x) - Integral(V(_0, x)*phi(_0, x), (_0, t))"
      ]
     },
     "execution_count": 13,
     "metadata": {},
     "output_type": "execute_result"
    }
   ],
   "source": [
    "sp.integrate(eq, t).series(t, 1)"
   ]
  },
  {
   "cell_type": "code",
   "execution_count": 10,
   "id": "e26656bb-b4b0-4ad0-94cf-21aa46143771",
   "metadata": {},
   "outputs": [
    {
     "data": {
      "text/latex": [
       "$\\displaystyle i \\left(\\int i H_{0} \\phi{\\left(t,x \\right)}\\, dt + \\int i V{\\left(t,x \\right)} \\phi{\\left(t,x \\right)}\\, dt + \\int \\frac{\\partial}{\\partial t} \\phi{\\left(t,x \\right)}\\, dt\\right)$"
      ],
      "text/plain": [
       "I*(Integral(I*H_0*phi(t, x), t) + Integral(I*V(t, x)*phi(t, x), t) + Integral(Derivative(phi(t, x), t), t))"
      ]
     },
     "execution_count": 10,
     "metadata": {},
     "output_type": "execute_result"
    }
   ],
   "source": [
    "t1 = sp.symbols('t_1')\n",
    "sp.integrate(eq, t)"
   ]
  },
  {
   "cell_type": "code",
   "execution_count": null,
   "id": "9683d09f-67da-4e08-9156-b0cd73f05e62",
   "metadata": {},
   "outputs": [],
   "source": []
  }
 ],
 "metadata": {
  "kernelspec": {
   "display_name": "Python 3 (ipykernel)",
   "language": "python",
   "name": "python3"
  },
  "language_info": {
   "codemirror_mode": {
    "name": "ipython",
    "version": 3
   },
   "file_extension": ".py",
   "mimetype": "text/x-python",
   "name": "python",
   "nbconvert_exporter": "python",
   "pygments_lexer": "ipython3",
   "version": "3.10.8"
  }
 },
 "nbformat": 4,
 "nbformat_minor": 5
}
