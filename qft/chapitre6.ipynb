{
 "cells": [
  {
   "cell_type": "markdown",
   "id": "f856d1c0-d889-416d-b54b-a2a6a49326f0",
   "metadata": {},
   "source": [
    "# Chapitre 6"
   ]
  },
  {
   "cell_type": "code",
   "execution_count": 4,
   "id": "85338b30-1e94-4838-91bb-e596cfc638d0",
   "metadata": {},
   "outputs": [],
   "source": [
    "import sympy as sp\n",
    "from sympy.abc import t, x"
   ]
  },
  {
   "cell_type": "code",
   "execution_count": 10,
   "id": "b3e05368-b186-4801-8adc-cdb6df37fc5e",
   "metadata": {},
   "outputs": [],
   "source": [
    "phi = sp.Function(\"phi\")(t, x) # f is a function of x\n",
    "phi_ = sp.Derivative(phi, t)\n",
    "V = sp.Function('V')(t, x)\n",
    "H_0 = sp.symbols('H_0')"
   ]
  },
  {
   "cell_type": "code",
   "execution_count": 11,
   "id": "e4271829-0977-49f0-90a5-97ae5b58c3a8",
   "metadata": {},
   "outputs": [],
   "source": [
    "eq = sp.I * phi_ - H_0 * phi - V * phi"
   ]
  },
  {
   "cell_type": "code",
   "execution_count": 12,
   "id": "08801c8c-21a9-45e1-bc09-43f5e1518071",
   "metadata": {},
   "outputs": [
    {
     "data": {
      "text/latex": [
       "$\\displaystyle - H_{0} \\phi{\\left(t,x \\right)} - V{\\left(t,x \\right)} \\phi{\\left(t,x \\right)} + i \\frac{\\partial}{\\partial t} \\phi{\\left(t,x \\right)}$"
      ],
      "text/plain": [
       "-H_0*phi(t, x) - V(t, x)*phi(t, x) + I*Derivative(phi(t, x), t)"
      ]
     },
     "execution_count": 12,
     "metadata": {},
     "output_type": "execute_result"
    }
   ],
   "source": [
    "eq"
   ]
  },
  {
   "cell_type": "code",
   "execution_count": 14,
   "id": "07558141-ee29-45c7-8d80-a56201fd9023",
   "metadata": {},
   "outputs": [
    {
     "data": {
      "text/latex": [
       "$\\displaystyle \\phi{\\left(t,x \\right)} = F{\\left(x \\right)} e^{- i \\left(H_{0} t + \\int V{\\left(t,x \\right)}\\, dt\\right)}$"
      ],
      "text/plain": [
       "Eq(phi(t, x), F(x)*exp(-I*(H_0*t + Integral(V(t, x), t))))"
      ]
     },
     "execution_count": 14,
     "metadata": {},
     "output_type": "execute_result"
    }
   ],
   "source": [
    "sp.pdsolve(eq)"
   ]
  },
  {
   "cell_type": "code",
   "execution_count": 15,
   "id": "e162c466-fa0a-43da-bb7b-83e3e038bfd7",
   "metadata": {},
   "outputs": [
    {
     "data": {
      "text/latex": [
       "$\\displaystyle i \\left(\\int i H_{0} \\phi{\\left(t,x \\right)}\\, dt + \\int i V{\\left(t,x \\right)} \\phi{\\left(t,x \\right)}\\, dt + \\int \\frac{\\partial}{\\partial t} \\phi{\\left(t,x \\right)}\\, dt\\right)$"
      ],
      "text/plain": [
       "I*(Integral(I*H_0*phi(t, x), t) + Integral(I*V(t, x)*phi(t, x), t) + Integral(Derivative(phi(t, x), t), t))"
      ]
     },
     "execution_count": 15,
     "metadata": {},
     "output_type": "execute_result"
    }
   ],
   "source": [
    "sp.integrate(eq, t, ()"
   ]
  },
  {
   "cell_type": "code",
   "execution_count": null,
   "id": "e26656bb-b4b0-4ad0-94cf-21aa46143771",
   "metadata": {},
   "outputs": [],
   "source": []
  }
 ],
 "metadata": {
  "kernelspec": {
   "display_name": "Python 3 (ipykernel)",
   "language": "python",
   "name": "python3"
  },
  "language_info": {
   "codemirror_mode": {
    "name": "ipython",
    "version": 3
   },
   "file_extension": ".py",
   "mimetype": "text/x-python",
   "name": "python",
   "nbconvert_exporter": "python",
   "pygments_lexer": "ipython3",
   "version": "3.10.12"
  }
 },
 "nbformat": 4,
 "nbformat_minor": 5
}
